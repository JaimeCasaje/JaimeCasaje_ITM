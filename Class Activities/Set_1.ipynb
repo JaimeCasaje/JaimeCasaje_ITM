{
 "cells": [
  {
   "cell_type": "code",
   "execution_count": 15,
   "id": "fb09850f-7500-4d98-a4df-dc34a3818a31",
   "metadata": {},
   "outputs": [],
   "source": [
    "def savings(gross_pay, tax_rate, expenses):\n",
    "    return(int(int(gross_pay)-((int(gross_pay)*float(tax_rate))+int(expenses))))\n",
    "\n",
    "def material_waste(total_material, material_units, num_jobs, job_consumption):\n",
    "    return(str(int(total_material)-(int(num_jobs)*int(job_consumption)))+str(material_units))\n",
    "\n",
    "def interest(principal, rate, periods):\n",
    "    return(int(int(principal)+(int(principal)*(float(rate)*int(periods)))))\n"
   ]
  },
  {
   "cell_type": "code",
   "execution_count": null,
   "id": "f6d59b5d-f1ce-406a-904a-5969f57e1ab5",
   "metadata": {},
   "outputs": [],
   "source": []
  }
 ],
 "metadata": {
  "kernelspec": {
   "display_name": "Python [conda env:base] *",
   "language": "python",
   "name": "conda-base-py"
  },
  "language_info": {
   "codemirror_mode": {
    "name": "ipython",
    "version": 3
   },
   "file_extension": ".py",
   "mimetype": "text/x-python",
   "name": "python",
   "nbconvert_exporter": "python",
   "pygments_lexer": "ipython3",
   "version": "3.12.7"
  }
 },
 "nbformat": 4,
 "nbformat_minor": 5
}
