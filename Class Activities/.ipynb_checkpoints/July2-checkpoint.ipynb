{
 "cells": [
  {
   "cell_type": "code",
   "execution_count": null,
   "id": "611f0270-4f34-4b6b-965e-004c75afdf60",
   "metadata": {},
   "outputs": [],
   "source": []
  },
  {
   "cell_type": "code",
   "execution_count": 1,
   "id": "d1180a42-e32f-45b5-aaf4-228606d76514",
   "metadata": {},
   "outputs": [
    {
     "data": {
      "text/plain": [
       "[1, 2, 3, 4, 5, 6, 7, 8, 9, 10]"
      ]
     },
     "execution_count": 1,
     "metadata": {},
     "output_type": "execute_result"
    }
   ],
   "source": [
    "#mapping\n",
    "my_list= list(range(1,11))\n",
    "my_list"
   ]
  },
  {
   "cell_type": "code",
   "execution_count": 3,
   "id": "437292fa-8e68-4cd9-8fe8-14e216398bcf",
   "metadata": {},
   "outputs": [
    {
     "data": {
      "text/plain": [
       "[33, 66, 99, 132, 165, 198, 231, 264, 297, 330]"
      ]
     },
     "execution_count": 3,
     "metadata": {},
     "output_type": "execute_result"
    }
   ],
   "source": [
    "my_lis_2=[]\n",
    "for number in my_list:\n",
    "    new_number = number * 33\n",
    "    my_lis_2.append(new_number)\n",
    "my_lis_2"
   ]
  },
  {
   "cell_type": "code",
   "execution_count": null,
   "id": "4fda0082-2951-484e-974b-a280ab259466",
   "metadata": {},
   "outputs": [],
   "source": []
  },
  {
   "cell_type": "code",
   "execution_count": null,
   "id": "55da239c-af07-46b9-b244-2238522216c7",
   "metadata": {},
   "outputs": [],
   "source": []
  },
  {
   "cell_type": "code",
   "execution_count": null,
   "id": "6dd5003a-4c2f-4d40-bf23-f3456eec44ae",
   "metadata": {},
   "outputs": [],
   "source": [
    "def shift_letter(letter, shift):\n",
    "    \n",
    "    letter_shift_map = {' ':0, 'A':1, 'B':2, 'C':3, 'D':4, 'E':5, 'F':6, 'G':7, 'H':8, 'I':9, 'J':10, 'K':11, 'L':12, 'M':13, 'N':14, 'O':15, 'P':16, 'Q':17, 'R':18, 'S':19, 'T':20, 'U':21, 'V':22, 'W':23, 'X':24, 'Y':25, 'Z':26}\n",
    "    shift_letter_map = {0:' ', 1:'A', 2:'B', 3:'C', 4:'D', 5:'E', 6:'F', 7:'G', 8:'H', 9:'I', 10:'J', 11:'K', 12:'L', 13:'M', 14:'N', 15:'O', 16:'P', 17:'Q', 18:'R', 19:'S', 20:'T', 21:'U', 22:'V', 23:'W', 24:'X', 25:'Y', 26:'Z'}\n",
    "    if str(letter) == \" \":\n",
    "        shifted_letter = \" \"\n",
    "    else:\n",
    "        letter_value = int(letter_shift_map[str(letter)])+int(shift)\n",
    "        while letter_value > 26:\n",
    "            letter_value = letter_value - 26\n",
    "        shifted_letter = shift_letter_map[int(letter_value)]\n",
    "    return(shifted_letter)\n",
    "\n",
    "def caesar_cipher(message, shift):\n",
    "    loop=0\n",
    "    end=len(message)-1\n",
    "    new_message=''\n",
    "    value_map = {'A':1, 'B':2, 'C':3, 'D':4, 'E':5, 'F':6, 'G':7, 'H':8, 'I':9, 'J':10, 'K':11, 'L':12, 'M':13, 'N':14, 'O':15, 'P':16, 'Q':17, 'R':18, 'S':19, 'T':20, 'U':21, 'V':22, 'W':23, 'X':24, 'Y':25, 'Z':26}\n",
    "    letter_map = {1:'A', 2:'B', 3:'C', 4:'D', 5:'E', 6:'F', 7:'G', 8:'H', 9:'I', 10:'J', 11:'K', 12:'L', 13:'M', 14:'N', 15:'O', 16:'P', 17:'Q', 18:'R', 19:'S', 20:'T', 21:'U', 22:'V', 23:'W', 24:'X', 25:'Y', 26:'Z'}\n",
    "    while loop<=end:\n",
    "        letter=message[loop]\n",
    "        if letter ==' ':\n",
    "            new_letter=' '\n",
    "        else:\n",
    "            value=value_map[letter]\n",
    "            new_value=value+shift\n",
    "            while new_value > 26:\n",
    "                new_value=new_value-26\n",
    "            new_letter=letter_map[new_value]\n",
    "        new_message = new_message+new_letter\n",
    "        loop=loop+1\n",
    "    return(new_message)"
   ]
  },
  {
   "cell_type": "code",
   "execution_count": null,
   "id": "d404c9b9-dfab-4226-918b-c3e8e5af4ee7",
   "metadata": {},
   "outputs": [],
   "source": []
  },
  {
   "cell_type": "code",
   "execution_count": null,
   "id": "3fde9827-5ef9-40df-ad0a-9a491f38908d",
   "metadata": {},
   "outputs": [],
   "source": [
    "'''\n",
    "map function\n",
    "    applies a smaller function to a set of values\n",
    "    no need to use but it's pretty useful if you know how to use it\n",
    "'''"
   ]
  },
  {
   "cell_type": "code",
   "execution_count": 4,
   "id": "6c069b6d-0a1b-4b27-b0ce-9f09283240d2",
   "metadata": {},
   "outputs": [
    {
     "data": {
      "text/plain": [
       "[1, 2, 3, 4, 5, 6, 7, 8, 9, 10]"
      ]
     },
     "execution_count": 4,
     "metadata": {},
     "output_type": "execute_result"
    }
   ],
   "source": [
    "my_list\n"
   ]
  },
  {
   "cell_type": "code",
   "execution_count": 5,
   "id": "ec83f4bb-18d8-48c9-a68a-abff7c7f11ca",
   "metadata": {},
   "outputs": [
    {
     "data": {
      "text/plain": [
       "[2, 4, 6, 8, 10]"
      ]
     },
     "execution_count": 5,
     "metadata": {},
     "output_type": "execute_result"
    }
   ],
   "source": [
    "#retain the even numbers\n",
    "new_list=[]\n",
    "for element in my_list:\n",
    "    if element % 2 == 0:\n",
    "        even_number = element\n",
    "        new_list.append(even_number)\n",
    "\n",
    "new_list"
   ]
  },
  {
   "cell_type": "code",
   "execution_count": null,
   "id": "f94fa892-a796-4a52-8b09-3ef263db962d",
   "metadata": {},
   "outputs": [],
   "source": []
  },
  {
   "cell_type": "code",
   "execution_count": null,
   "id": "4b8a4bae-ec5d-42a1-a8c5-76c29e3c9be3",
   "metadata": {},
   "outputs": [],
   "source": []
  },
  {
   "cell_type": "code",
   "execution_count": null,
   "id": "adb93190-202b-4ead-8aa8-afda6b056888",
   "metadata": {},
   "outputs": [],
   "source": [
    "def is_even(x):\n",
    "    return x % == 0"
   ]
  },
  {
   "cell_type": "code",
   "execution_count": 10,
   "id": "2ee000df-d3f5-4c16-9637-db637c3b6177",
   "metadata": {},
   "outputs": [
    {
     "name": "stdout",
     "output_type": "stream",
     "text": [
      "55\n"
     ]
    }
   ],
   "source": [
    "#aggregation\n",
    "my_list = list(range(1,11))\n",
    "my_sum = 0\n",
    "\n",
    "for number in my_list:\n",
    "    my_sum = my_sum + number\n",
    "\n",
    "print(my_sum)"
   ]
  },
  {
   "cell_type": "code",
   "execution_count": 11,
   "id": "c8d6683e-3801-446b-a42e-40a1fd10d398",
   "metadata": {},
   "outputs": [
    {
     "name": "stdout",
     "output_type": "stream",
     "text": [
      "66\n"
     ]
    }
   ],
   "source": [
    "print(1+2+3+4+5+6+7+8+9+10+11)"
   ]
  },
  {
   "cell_type": "code",
   "execution_count": null,
   "id": "ffc5246c-d883-4bb3-895f-e8baeba52a8e",
   "metadata": {},
   "outputs": [],
   "source": []
  }
 ],
 "metadata": {
  "kernelspec": {
   "display_name": "Python [conda env:base] *",
   "language": "python",
   "name": "conda-base-py"
  },
  "language_info": {
   "codemirror_mode": {
    "name": "ipython",
    "version": 3
   },
   "file_extension": ".py",
   "mimetype": "text/x-python",
   "name": "python",
   "nbconvert_exporter": "python",
   "pygments_lexer": "ipython3",
   "version": "3.12.7"
  }
 },
 "nbformat": 4,
 "nbformat_minor": 5
}
