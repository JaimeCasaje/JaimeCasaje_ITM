{
 "cells": [
  {
   "cell_type": "code",
   "execution_count": 2,
   "id": "6b5aaefc-efe4-4c7a-900e-113e93de0f56",
   "metadata": {},
   "outputs": [
    {
     "data": {
      "text/plain": [
       "'f'"
      ]
     },
     "execution_count": 2,
     "metadata": {},
     "output_type": "execute_result"
    }
   ],
   "source": [
    "my_string = \"ADMU\"\n",
    "my_string[3]\n",
    "long_string = \"asdfhjagsdfkjagsdkf\"\n",
    "long_string[len(long_string)-1]"
   ]
  },
  {
   "cell_type": "code",
   "execution_count": 3,
   "id": "1951700f-ae6a-4a0f-a9aa-96253289c804",
   "metadata": {},
   "outputs": [
    {
     "data": {
      "text/plain": [
       "'hello'"
      ]
     },
     "execution_count": 3,
     "metadata": {},
     "output_type": "execute_result"
    }
   ],
   "source": [
    "my_string = \"hello world\"\n",
    "my_string[0:5]"
   ]
  },
  {
   "cell_type": "code",
   "execution_count": 15,
   "id": "9582fab1-65d5-4c40-ad08-d6bb92f22188",
   "metadata": {},
   "outputs": [
    {
     "data": {
      "text/plain": [
       "[1, 'two', 3.1]"
      ]
     },
     "execution_count": 15,
     "metadata": {},
     "output_type": "execute_result"
    }
   ],
   "source": [
    "my_list = [1, \"two\", 3.1]\n",
    "my_list"
   ]
  },
  {
   "cell_type": "code",
   "execution_count": 17,
   "id": "5ab56625-1176-4e74-8191-76fe549d0ada",
   "metadata": {},
   "outputs": [
    {
     "data": {
      "text/plain": [
       "[1, 'two', 3.1, '4']"
      ]
     },
     "execution_count": 17,
     "metadata": {},
     "output_type": "execute_result"
    }
   ],
   "source": [
    "my_list.append('4')\n",
    "my_list"
   ]
  },
  {
   "cell_type": "code",
   "execution_count": 18,
   "id": "f888841c-431e-4082-a4fd-85d0c5d3081f",
   "metadata": {},
   "outputs": [
    {
     "data": {
      "text/plain": [
       "[1, 2, 3]"
      ]
     },
     "execution_count": 18,
     "metadata": {},
     "output_type": "execute_result"
    }
   ],
   "source": [
    "list_half_1 = [1, 2, 3]\n",
    "list_half_2 = [4, 5, 6]\n",
    "\n",
    "list_half_1"
   ]
  },
  {
   "cell_type": "code",
   "execution_count": 19,
   "id": "bb71607a-c852-40c6-8b6d-c497384bf87b",
   "metadata": {},
   "outputs": [
    {
     "data": {
      "text/plain": [
       "[4, 5, 6]"
      ]
     },
     "execution_count": 19,
     "metadata": {},
     "output_type": "execute_result"
    }
   ],
   "source": [
    "list_half_2"
   ]
  },
  {
   "cell_type": "code",
   "execution_count": 20,
   "id": "4af7f78d-c763-41af-bbfd-088bc4f995aa",
   "metadata": {},
   "outputs": [],
   "source": [
    "list_half_1.append(list_half_2)"
   ]
  },
  {
   "cell_type": "code",
   "execution_count": 21,
   "id": "6e0aae4d-fe6b-4220-8046-7bd21d9b0de5",
   "metadata": {},
   "outputs": [
    {
     "data": {
      "text/plain": [
       "[1, 2, 3, [4, 5, 6]]"
      ]
     },
     "execution_count": 21,
     "metadata": {},
     "output_type": "execute_result"
    }
   ],
   "source": [
    "list_half_1"
   ]
  },
  {
   "cell_type": "code",
   "execution_count": 22,
   "id": "204bc678-2b9d-4704-b656-d264d22f1629",
   "metadata": {},
   "outputs": [
    {
     "data": {
      "text/plain": [
       "(1, 2, 3)"
      ]
     },
     "execution_count": 22,
     "metadata": {},
     "output_type": "execute_result"
    }
   ],
   "source": [
    "my_tuple = (1, 2, 3)\n",
    "my_tuple"
   ]
  },
  {
   "cell_type": "code",
   "execution_count": 23,
   "id": "91b2ab5b-0288-4471-bf7e-987d90c45333",
   "metadata": {},
   "outputs": [
    {
     "data": {
      "text/plain": [
       "3"
      ]
     },
     "execution_count": 23,
     "metadata": {},
     "output_type": "execute_result"
    }
   ],
   "source": [
    "len(my_tuple)"
   ]
  },
  {
   "cell_type": "code",
   "execution_count": 24,
   "id": "ae6e5e3a-3e8e-4c1d-b534-6c827acecc7c",
   "metadata": {},
   "outputs": [],
   "source": [
    "my_list = list(range(1,11))"
   ]
  },
  {
   "cell_type": "code",
   "execution_count": 25,
   "id": "9d4ceacb-370d-473a-8734-b4638a234036",
   "metadata": {},
   "outputs": [
    {
     "data": {
      "text/plain": [
       "[1, 2, 3, 4, 5, 6, 7, 8, 9, 10]"
      ]
     },
     "execution_count": 25,
     "metadata": {},
     "output_type": "execute_result"
    }
   ],
   "source": [
    "my_list"
   ]
  },
  {
   "cell_type": "code",
   "execution_count": 3,
   "id": "85b9aa73-5cfa-4655-b099-204c711356bf",
   "metadata": {},
   "outputs": [
    {
     "ename": "KeyError",
     "evalue": "1",
     "output_type": "error",
     "traceback": [
      "\u001b[0;31m---------------------------------------------------------------------------\u001b[0m",
      "\u001b[0;31mKeyError\u001b[0m                                  Traceback (most recent call last)",
      "Cell \u001b[0;32mIn[3], line 3\u001b[0m\n\u001b[1;32m      1\u001b[0m my_map \u001b[38;5;241m=\u001b[39m {\u001b[38;5;124m'\u001b[39m\u001b[38;5;124mone\u001b[39m\u001b[38;5;124m'\u001b[39m: \u001b[38;5;241m1\u001b[39m, \u001b[38;5;124m'\u001b[39m\u001b[38;5;124mtwo\u001b[39m\u001b[38;5;124m'\u001b[39m:\u001b[38;5;241m2\u001b[39m, \u001b[38;5;124m'\u001b[39m\u001b[38;5;124mthree\u001b[39m\u001b[38;5;124m'\u001b[39m:\u001b[38;5;241m3\u001b[39m}\n\u001b[1;32m      2\u001b[0m my_map\n\u001b[0;32m----> 3\u001b[0m my_map[\u001b[38;5;241m1\u001b[39m]\n",
      "\u001b[0;31mKeyError\u001b[0m: 1"
     ]
    }
   ],
   "source": [
    "my_map = {'one': 1, 'two':2, 'three':3}\n",
    "my_map\n",
    "my_map[1]"
   ]
  },
  {
   "cell_type": "code",
   "execution_count": 27,
   "id": "4079873d-ff74-439f-89af-12eccf2edefc",
   "metadata": {},
   "outputs": [
    {
     "data": {
      "text/plain": [
       "2"
      ]
     },
     "execution_count": 27,
     "metadata": {},
     "output_type": "execute_result"
    }
   ],
   "source": [
    "my_map['two']"
   ]
  },
  {
   "cell_type": "code",
   "execution_count": 28,
   "id": "6d5036e0-fb8e-4d0b-b32d-17cbfe2c5303",
   "metadata": {},
   "outputs": [],
   "source": [
    "my_map['four']=4"
   ]
  },
  {
   "cell_type": "code",
   "execution_count": 29,
   "id": "6e7f5c47-ada0-4bc2-998e-043e296b7afc",
   "metadata": {},
   "outputs": [
    {
     "data": {
      "text/plain": [
       "{'one': 1, 'two': 2, 'three': 3, 'four': 4}"
      ]
     },
     "execution_count": 29,
     "metadata": {},
     "output_type": "execute_result"
    }
   ],
   "source": [
    "my_map"
   ]
  },
  {
   "cell_type": "code",
   "execution_count": 30,
   "id": "abee3db8-0d23-46ff-b857-e37dc2a9011b",
   "metadata": {},
   "outputs": [
    {
     "data": {
      "text/plain": [
       "{'one': 1, 'two': 2, 'three': 3, 'four': 4, 'five': 5, 'six': 6}"
      ]
     },
     "execution_count": 30,
     "metadata": {},
     "output_type": "execute_result"
    }
   ],
   "source": [
    "more_pairs = {'five':5, 'six':6}\n",
    "my_map.update(more_pairs)\n",
    "my_map"
   ]
  },
  {
   "cell_type": "code",
   "execution_count": 4,
   "id": "c08a9159-49c7-4668-9884-b09147c3adc0",
   "metadata": {},
   "outputs": [
    {
     "data": {
      "text/plain": [
       "'l'"
      ]
     },
     "execution_count": 4,
     "metadata": {},
     "output_type": "execute_result"
    }
   ],
   "source": [
    "my_message = \"hello world\"\n",
    "letter = 3\n",
    "my_message[letter]"
   ]
  },
  {
   "cell_type": "code",
   "execution_count": 5,
   "id": "74bb7cd3-a409-48f4-a15e-ec4cfd124a71",
   "metadata": {},
   "outputs": [
    {
     "data": {
      "text/plain": [
       "11"
      ]
     },
     "execution_count": 5,
     "metadata": {},
     "output_type": "execute_result"
    }
   ],
   "source": [
    "len(my_message)"
   ]
  },
  {
   "cell_type": "code",
   "execution_count": 6,
   "id": "1c5842cc-e90a-4150-a4ad-e3b65a28b8e5",
   "metadata": {},
   "outputs": [
    {
     "data": {
      "text/plain": [
       "'w'"
      ]
     },
     "execution_count": 6,
     "metadata": {},
     "output_type": "execute_result"
    }
   ],
   "source": [
    "my_message[6]"
   ]
  },
  {
   "cell_type": "code",
   "execution_count": 7,
   "id": "64b0d370-660e-4594-aa9e-43ce6b44c512",
   "metadata": {},
   "outputs": [
    {
     "data": {
      "text/plain": [
       "' '"
      ]
     },
     "execution_count": 7,
     "metadata": {},
     "output_type": "execute_result"
    }
   ],
   "source": [
    "my_message[5]"
   ]
  },
  {
   "cell_type": "code",
   "execution_count": null,
   "id": "3826195f-9627-4a4f-b9aa-b420e39ad40f",
   "metadata": {},
   "outputs": [],
   "source": []
  }
 ],
 "metadata": {
  "kernelspec": {
   "display_name": "Python [conda env:base] *",
   "language": "python",
   "name": "conda-base-py"
  },
  "language_info": {
   "codemirror_mode": {
    "name": "ipython",
    "version": 3
   },
   "file_extension": ".py",
   "mimetype": "text/x-python",
   "name": "python",
   "nbconvert_exporter": "python",
   "pygments_lexer": "ipython3",
   "version": "3.12.7"
  }
 },
 "nbformat": 4,
 "nbformat_minor": 5
}
