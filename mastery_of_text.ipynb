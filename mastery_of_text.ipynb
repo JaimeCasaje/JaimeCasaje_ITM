{
 "cells": [
  {
   "cell_type": "code",
   "execution_count": 21,
   "id": "8cb2f5de-633e-4f86-bddb-47950c60911a",
   "metadata": {},
   "outputs": [
    {
     "name": "stdout",
     "output_type": "stream",
     "text": [
      "How many lines?\n",
      "99968\n",
      "How many words?\n",
      "795227\n",
      "How frequent is the word apostle?\n",
      "113\n",
      "what is the most frequent word?\n",
      "the\n"
     ]
    }
   ],
   "source": [
    "import urllib\n",
    "import urllib.request\n",
    "\n",
    "with urllib.request.urlopen('https://www.gutenberg.org/cache/epub/10/pg10.txt') as file:\n",
    "\n",
    "    pg10 = file.read().decode('utf-8')\n",
    "\n",
    "    print(\"How many lines?\")\n",
    "    print(len(pg10.splitlines()))\n",
    "\n",
    "    print (\"How many words?\")\n",
    "    word_count = 0\n",
    "    in_word = False\n",
    "\n",
    "    for c in pg10:\n",
    "        if c.isalpha():\n",
    "            if not in_word:\n",
    "                word_count = word_count + 1\n",
    "                in_word = True\n",
    "        else:\n",
    "            in_word = False\n",
    "    print(word_count)\n",
    "\n",
    "    print(\"How frequent is the word apostle?\")\n",
    "    apostle = pg10.lower().count('apostle')\n",
    "    print(apostle)\n",
    "\n",
    "    print(\"what is the most frequent word?\")\n",
    "    pg10_lower = pg10.lower()\n",
    "    pg10_lower = pg10_lower.replace(\"\\ufeff\", \"\")\n",
    "    frequency = {}\n",
    "    \n",
    "    for word in pg10_lower.split():\n",
    "        frequency[word] = 0\n",
    "        \n",
    "    for word in pg10_lower.split():\n",
    "        frequency[word] = frequency[word] + 1\n",
    "\n",
    "    final = max(frequency, key=frequency.get)\n",
    "\n",
    "    print(final)"
   ]
  },
  {
   "cell_type": "code",
   "execution_count": null,
   "id": "f51098e5-6b79-4cb8-b2a5-571927527652",
   "metadata": {},
   "outputs": [],
   "source": []
  }
 ],
 "metadata": {
  "kernelspec": {
   "display_name": "Python [conda env:base] *",
   "language": "python",
   "name": "conda-base-py"
  },
  "language_info": {
   "codemirror_mode": {
    "name": "ipython",
    "version": 3
   },
   "file_extension": ".py",
   "mimetype": "text/x-python",
   "name": "python",
   "nbconvert_exporter": "python",
   "pygments_lexer": "ipython3",
   "version": "3.12.7"
  }
 },
 "nbformat": 4,
 "nbformat_minor": 5
}
